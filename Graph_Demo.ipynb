{
 "cells": [
  {
   "cell_type": "code",
   "execution_count": 1,
   "id": "1134ffeb",
   "metadata": {},
   "outputs": [],
   "source": [
    "import numpy as np\n",
    "import matplotlib.pyplot as plt\n",
    "import networkx as nx\n",
    "\n",
    "import warnings\n",
    "warnings.filterwarnings('ignore')\n",
    "\n",
    "# Track data loading\n",
    "import psutil\n",
    "import time\n",
    "\n",
    "# Save&Load results\n",
    "import pickle"
   ]
  },
  {
   "cell_type": "code",
   "execution_count": 2,
   "id": "9db9aa0f",
   "metadata": {},
   "outputs": [],
   "source": [
    "def load_graph(address, verbose = True):\n",
    "    \n",
    "    st = time.time()\n",
    "\n",
    "    with open(address, 'rb') as f:\n",
    "        G = pickle.load(f)\n",
    "\n",
    "    et = time.time()\n",
    "    elapsed_time = et - st\n",
    "    \n",
    "    if verbose:\n",
    "        print('Execution time:', elapsed_time/60, 'mins')\n",
    "        # Getting % usage of virtual_memory ( 3rd field)\n",
    "        print('RAM memory % used:', psutil.virtual_memory()[2])\n",
    "        # Getting usage of virtual_memory in GB ( 4th field)\n",
    "        print('RAM Used (GB):', psutil.virtual_memory()[3]/1000000000)\n",
    "    \n",
    "    return G"
   ]
  },
  {
   "cell_type": "code",
   "execution_count": 3,
   "id": "520beffc",
   "metadata": {},
   "outputs": [],
   "source": [
    "def print_graph_info(G):\n",
    "    print(\"Graph Type: \", type(G))\n",
    "    print(\"Node Num: \", G.number_of_nodes())\n",
    "    print(\"Edge Num: \", G.number_of_edges())\n",
    "    print(\"Weight Sum: \", G.size(weight=\"weight\"))"
   ]
  },
  {
   "cell_type": "markdown",
   "id": "a71195fd",
   "metadata": {},
   "source": [
    "# 1. Original Graph"
   ]
  },
  {
   "cell_type": "markdown",
   "id": "65b638de",
   "metadata": {},
   "source": [
    "We construct from the entire big dataset, a directed weighted network with attributes."
   ]
  },
  {
   "cell_type": "code",
   "execution_count": 4,
   "id": "31b43df7",
   "metadata": {},
   "outputs": [
    {
     "name": "stdout",
     "output_type": "stream",
     "text": [
      "Execution time: 18.905131928126018 mins\n",
      "RAM memory % used: 61.4\n",
      "RAM Used (GB): 245.243461632\n"
     ]
    }
   ],
   "source": [
    "G_original = load_graph(\"Graphs/G_original.gpickle\")"
   ]
  },
  {
   "cell_type": "code",
   "execution_count": 5,
   "id": "08398281",
   "metadata": {},
   "outputs": [
    {
     "name": "stdout",
     "output_type": "stream",
     "text": [
      "Graph Type:  <class 'networkx.classes.digraph.DiGraph'>\n",
      "Node Num:  13948159\n",
      "Edge Num:  72331737\n",
      "Weight Sum:  113685100.0\n"
     ]
    }
   ],
   "source": [
    "print_graph_info(G_original)"
   ]
  },
  {
   "cell_type": "code",
   "execution_count": 6,
   "id": "07f56ca3",
   "metadata": {},
   "outputs": [
    {
     "data": {
      "text/plain": [
       "{'timeStamps': array([1648134989, 1655339450, 1655745435, 1656693022, 1657327488,\n",
       "        1657641083, 1657798795, 1657801155, 1658655141, 1658798492,\n",
       "        1659101815, 1659137207, 1660350179, 1660611873, 1660868454,\n",
       "        1660868729, 1661303199, 1661864309, 1661998205, 1662170215,\n",
       "        1663244690, 1663254077, 1663254547, 1663255679, 1663477716,\n",
       "        1663477740, 1663714563, 1663896188, 1664802550, 1664805614,\n",
       "        1664892010, 1664894490, 1664900594, 1664904542, 1664904658,\n",
       "        1664975172, 1664980615, 1665016018, 1665538674, 1665944392,\n",
       "        1666035337, 1666097379, 1667329353, 1667427114, 1667752492,\n",
       "        1667962436, 1668809635, 1668985555, 1669597004, 1669766556,\n",
       "        1669766698, 1670176980, 1670264155, 1670264298, 1670343738,\n",
       "        1670435811, 1670476924, 1671331098, 1671331757, 1671664362,\n",
       "        1671909976, 1672501059, 1672667372, 1672775025, 1672876871,\n",
       "        1672932547, 1673132543, 1673218520, 1673298762, 1673378071,\n",
       "        1673472524, 1673640577, 1673977956, 1674230235, 1674245436,\n",
       "        1674754228, 1674831707, 1674868019, 1674921343, 1674922145,\n",
       "        1675131132, 1675178972, 1675193028, 1675442728, 1675715586,\n",
       "        1675715862, 1675791656, 1675875464, 1675909583, 1675982438,\n",
       "        1676157628, 1676162552]),\n",
       " 'followers': array([ 9, 10, 10, 10, 11, 11, 11, 11, 11, 11, 12, 12, 12, 12, 14, 14, 14,\n",
       "        14, 14, 15, 16, 16, 16, 16, 17, 17, 17, 19, 21, 21, 22, 22, 22, 22,\n",
       "        22, 23, 23, 23, 22, 21, 23, 23, 23, 22, 22, 21, 26, 26, 29, 30, 30,\n",
       "        32, 32, 32, 32, 34, 32, 34, 34, 37, 37, 37, 37, 39, 38, 34, 41, 39,\n",
       "        41, 42, 41, 41, 39, 41, 41, 47, 48, 48, 48, 48, 48, 46, 46, 47, 49,\n",
       "        49, 49, 51, 53, 53, 58, 58]),\n",
       " 'friends': array([ 26,  35,  39,  41,  45,  46,  46,  46,  48,  49,  47,  47,  47,\n",
       "         49,  50,  50,  50,  52,  53,  53,  57,  57,  57,  57,  61,  61,\n",
       "         66,  68,  73,  73,  74,  74,  74,  74,  74,  74,  74,  74,  79,\n",
       "         81,  81,  82,  89,  93,  97, 100, 107, 107, 110, 111, 111, 117,\n",
       "        117, 117, 117, 118, 120, 134, 134, 137, 138, 148, 148, 149, 151,\n",
       "        156, 172, 174, 183, 189, 188, 199, 233, 257, 257, 266, 272, 272,\n",
       "        274, 274, 281, 287, 287, 290, 296, 296, 298, 301, 311, 311, 325,\n",
       "        325]),\n",
       " 'bot': array([0, 0, 0, 1, 0, 0, 0, 0, 1, 1, 0, 0, 0, 0, 1, 1, 1, 0, 1, 1, 0, 0,\n",
       "        0, 0, 1, 1, 1, 0, 1, 1, 1, 1, 1, 1, 1, 0, 0, 0, 0, 0, 0, 0, 1, 1,\n",
       "        0, 1, 1, 1, 1, 1, 1, 0, 0, 0, 0, 1, 1, 1, 1, 1, 0, 0, 1, 1, 1, 1,\n",
       "        1, 1, 1, 0, 0, 0, 0, 1, 1, 0, 0, 0, 0, 0, 1, 0, 0, 1, 1, 1, 1, 0,\n",
       "        0, 0, 1, 1]),\n",
       " 'verified': array([0, 0, 0, 0, 0, 0, 0, 0, 0, 0, 0, 0, 0, 0, 0, 0, 0, 0, 0, 0, 0, 0,\n",
       "        0, 0, 0, 0, 0, 0, 0, 0, 0, 0, 0, 0, 0, 0, 0, 0, 0, 0, 0, 0, 0, 0,\n",
       "        0, 0, 0, 0, 0, 0, 0, 0, 0, 0, 0, 0, 0, 0, 0, 0, 0, 0, 0, 0, 0, 0,\n",
       "        0, 0, 0, 0, 0, 0, 0, 0, 0, 0, 0, 0, 0, 0, 0, 0, 0, 0, 0, 0, 0, 0,\n",
       "        0, 0, 0, 0])}"
      ]
     },
     "execution_count": 6,
     "metadata": {},
     "output_type": "execute_result"
    }
   ],
   "source": [
    "G_original.nodes[2]  # example"
   ]
  },
  {
   "cell_type": "code",
   "execution_count": 7,
   "id": "bdaa1ca3",
   "metadata": {},
   "outputs": [
    {
     "data": {
      "text/plain": [
       "{'weight': 5,\n",
       " 'timeStamps': array([1663896188, 1664904542, 1664904658, 1670264155, 1670264298]),\n",
       " 'newsCategories': array([4, 3, 8, 8, 4])}"
      ]
     },
     "execution_count": 7,
     "metadata": {},
     "output_type": "execute_result"
    }
   ],
   "source": [
    "G_original.edges[(2, 1480708)]  # example"
   ]
  },
  {
   "cell_type": "markdown",
   "id": "f00f7c44",
   "metadata": {},
   "source": [
    "Since loading the attributed original network takes time, we also provide an unattributed version for faster loading when attributes are not needed. "
   ]
  },
  {
   "cell_type": "code",
   "execution_count": 8,
   "id": "308b677e",
   "metadata": {},
   "outputs": [
    {
     "name": "stdout",
     "output_type": "stream",
     "text": [
      "Execution time: 2.355726182460785 mins\n",
      "RAM memory % used: 14.5\n",
      "RAM Used (GB): 55.797424128\n"
     ]
    }
   ],
   "source": [
    "G_original_unattributed = load_graph(\"Graphs/G_original_unattributed.gpickle\")"
   ]
  },
  {
   "cell_type": "code",
   "execution_count": 16,
   "id": "ea3d20c2",
   "metadata": {},
   "outputs": [
    {
     "name": "stdout",
     "output_type": "stream",
     "text": [
      "Graph Type:  <class 'networkx.classes.digraph.DiGraph'>\n",
      "Node Num:  13948159\n",
      "Edge Num:  72331737\n",
      "Weight Sum:  113685100.0\n"
     ]
    }
   ],
   "source": [
    "print_graph_info(G_original_unattributed)"
   ]
  },
  {
   "cell_type": "code",
   "execution_count": 10,
   "id": "577dd8f5",
   "metadata": {},
   "outputs": [
    {
     "data": {
      "text/plain": [
       "{}"
      ]
     },
     "execution_count": 10,
     "metadata": {},
     "output_type": "execute_result"
    }
   ],
   "source": [
    "G_original_unattributed.nodes[2] # example"
   ]
  },
  {
   "cell_type": "code",
   "execution_count": 13,
   "id": "ef1e13aa",
   "metadata": {},
   "outputs": [
    {
     "data": {
      "text/plain": [
       "{'weight': 5}"
      ]
     },
     "execution_count": 13,
     "metadata": {},
     "output_type": "execute_result"
    }
   ],
   "source": [
    "G_original_unattributed.edges[(2, 1480708)] # example"
   ]
  },
  {
   "cell_type": "markdown",
   "id": "25c9e1af",
   "metadata": {},
   "source": [
    "# 2. Filtered Graph"
   ]
  },
  {
   "cell_type": "markdown",
   "id": "f9cb116e",
   "metadata": {},
   "source": [
    "Here we have filtered the original network, so as to retain statistically significant edges only."
   ]
  },
  {
   "cell_type": "code",
   "execution_count": 17,
   "id": "69c5a0a7",
   "metadata": {},
   "outputs": [
    {
     "name": "stdout",
     "output_type": "stream",
     "text": [
      "Execution time: 1.415244960784912 mins\n",
      "RAM memory % used: 17.9\n",
      "RAM Used (GB): 69.35392256\n"
     ]
    }
   ],
   "source": [
    "G_filtered = load_graph(\"Graphs/G_filtered.gpickle\")"
   ]
  },
  {
   "cell_type": "code",
   "execution_count": 18,
   "id": "2e92a0c5",
   "metadata": {},
   "outputs": [
    {
     "name": "stdout",
     "output_type": "stream",
     "text": [
      "Graph Type:  <class 'networkx.classes.digraph.DiGraph'>\n",
      "Node Num:  767553\n",
      "Edge Num:  2165564\n",
      "Weight Sum:  29991328.0\n"
     ]
    }
   ],
   "source": [
    "print_graph_info(G_filtered)"
   ]
  },
  {
   "cell_type": "code",
   "execution_count": 19,
   "id": "357b187b",
   "metadata": {},
   "outputs": [
    {
     "data": {
      "text/plain": [
       "{'timeStamps': array([1648134989, 1655339450, 1655745435, 1656693022, 1657327488,\n",
       "        1657641083, 1657798795, 1657801155, 1658655141, 1658798492,\n",
       "        1659101815, 1659137207, 1660350179, 1660611873, 1660868454,\n",
       "        1660868729, 1661303199, 1661864309, 1661998205, 1662170215,\n",
       "        1663244690, 1663254077, 1663254547, 1663255679, 1663477716,\n",
       "        1663477740, 1663714563, 1663896188, 1664802550, 1664805614,\n",
       "        1664892010, 1664894490, 1664900594, 1664904542, 1664904658,\n",
       "        1664975172, 1664980615, 1665016018, 1665538674, 1665944392,\n",
       "        1666035337, 1666097379, 1667329353, 1667427114, 1667752492,\n",
       "        1667962436, 1668809635, 1668985555, 1669597004, 1669766556,\n",
       "        1669766698, 1670176980, 1670264155, 1670264298, 1670343738,\n",
       "        1670435811, 1670476924, 1671331098, 1671331757, 1671664362,\n",
       "        1671909976, 1672501059, 1672667372, 1672775025, 1672876871,\n",
       "        1672932547, 1673132543, 1673218520, 1673298762, 1673378071,\n",
       "        1673472524, 1673640577, 1673977956, 1674230235, 1674245436,\n",
       "        1674754228, 1674831707, 1674868019, 1674921343, 1674922145,\n",
       "        1675131132, 1675178972, 1675193028, 1675442728, 1675715586,\n",
       "        1675715862, 1675791656, 1675875464, 1675909583, 1675982438,\n",
       "        1676157628, 1676162552]),\n",
       " 'followers': array([ 9, 10, 10, 10, 11, 11, 11, 11, 11, 11, 12, 12, 12, 12, 14, 14, 14,\n",
       "        14, 14, 15, 16, 16, 16, 16, 17, 17, 17, 19, 21, 21, 22, 22, 22, 22,\n",
       "        22, 23, 23, 23, 22, 21, 23, 23, 23, 22, 22, 21, 26, 26, 29, 30, 30,\n",
       "        32, 32, 32, 32, 34, 32, 34, 34, 37, 37, 37, 37, 39, 38, 34, 41, 39,\n",
       "        41, 42, 41, 41, 39, 41, 41, 47, 48, 48, 48, 48, 48, 46, 46, 47, 49,\n",
       "        49, 49, 51, 53, 53, 58, 58]),\n",
       " 'friends': array([ 26,  35,  39,  41,  45,  46,  46,  46,  48,  49,  47,  47,  47,\n",
       "         49,  50,  50,  50,  52,  53,  53,  57,  57,  57,  57,  61,  61,\n",
       "         66,  68,  73,  73,  74,  74,  74,  74,  74,  74,  74,  74,  79,\n",
       "         81,  81,  82,  89,  93,  97, 100, 107, 107, 110, 111, 111, 117,\n",
       "        117, 117, 117, 118, 120, 134, 134, 137, 138, 148, 148, 149, 151,\n",
       "        156, 172, 174, 183, 189, 188, 199, 233, 257, 257, 266, 272, 272,\n",
       "        274, 274, 281, 287, 287, 290, 296, 296, 298, 301, 311, 311, 325,\n",
       "        325]),\n",
       " 'bot': array([0, 0, 0, 1, 0, 0, 0, 0, 1, 1, 0, 0, 0, 0, 1, 1, 1, 0, 1, 1, 0, 0,\n",
       "        0, 0, 1, 1, 1, 0, 1, 1, 1, 1, 1, 1, 1, 0, 0, 0, 0, 0, 0, 0, 1, 1,\n",
       "        0, 1, 1, 1, 1, 1, 1, 0, 0, 0, 0, 1, 1, 1, 1, 1, 0, 0, 1, 1, 1, 1,\n",
       "        1, 1, 1, 0, 0, 0, 0, 1, 1, 0, 0, 0, 0, 0, 1, 0, 0, 1, 1, 1, 1, 0,\n",
       "        0, 0, 1, 1]),\n",
       " 'verified': array([0, 0, 0, 0, 0, 0, 0, 0, 0, 0, 0, 0, 0, 0, 0, 0, 0, 0, 0, 0, 0, 0,\n",
       "        0, 0, 0, 0, 0, 0, 0, 0, 0, 0, 0, 0, 0, 0, 0, 0, 0, 0, 0, 0, 0, 0,\n",
       "        0, 0, 0, 0, 0, 0, 0, 0, 0, 0, 0, 0, 0, 0, 0, 0, 0, 0, 0, 0, 0, 0,\n",
       "        0, 0, 0, 0, 0, 0, 0, 0, 0, 0, 0, 0, 0, 0, 0, 0, 0, 0, 0, 0, 0, 0,\n",
       "        0, 0, 0, 0])}"
      ]
     },
     "execution_count": 19,
     "metadata": {},
     "output_type": "execute_result"
    }
   ],
   "source": [
    "G_filtered.nodes[2] # example"
   ]
  },
  {
   "cell_type": "code",
   "execution_count": 20,
   "id": "864f4f84",
   "metadata": {},
   "outputs": [
    {
     "data": {
      "text/plain": [
       "{'weight': 5,\n",
       " 'timeStamps': array([1663896188, 1664904542, 1664904658, 1670264155, 1670264298]),\n",
       " 'newsCategories': array([4, 3, 8, 8, 4]),\n",
       " 'newsCategoriesGeneralised': array([2, 0, 0, 0, 2])}"
      ]
     },
     "execution_count": 20,
     "metadata": {},
     "output_type": "execute_result"
    }
   ],
   "source": [
    "G_filtered.edges[(2, 1480708)] # example"
   ]
  },
  {
   "cell_type": "markdown",
   "id": "fa6fa958",
   "metadata": {},
   "source": [
    "# 3. Temporal Subgraphs"
   ]
  },
  {
   "cell_type": "markdown",
   "id": "1f4f9aac",
   "metadata": {},
   "source": [
    "We also provide the following functions to extract subgraphs only containing retweets during specific time period."
   ]
  },
  {
   "cell_type": "code",
   "execution_count": 21,
   "id": "e25740ea",
   "metadata": {},
   "outputs": [],
   "source": [
    "from datetime import datetime\n",
    "\n",
    "def cal_timestamps(date):\n",
    "    \n",
    "    start_timestamp = 1584482894\n",
    "    \n",
    "    # Define the start and end dates\n",
    "    start_date = datetime.strptime('2020-03-17', '%Y-%m-%d')\n",
    "    end_date = datetime.strptime(date, '%Y-%m-%d')\n",
    "\n",
    "    # Calculate the difference in days\n",
    "    difference_in_days = (end_date - start_date).days\n",
    "    \n",
    "    return start_timestamp + difference_in_days*24*60*60"
   ]
  },
  {
   "cell_type": "code",
   "execution_count": 25,
   "id": "be33e931",
   "metadata": {},
   "outputs": [],
   "source": [
    "def get_temporal_subgraph(G, latest_start, earliest_end, verbose = True):\n",
    "    \n",
    "    st = time.time()\n",
    "    \n",
    "    subG = nx.DiGraph()\n",
    "    \n",
    "    node_timeStamps_dict = nx.get_node_attributes(G, \"timeStamps\")\n",
    "    edge_timeStamps_dict = nx.get_edge_attributes(G, \"timeStamps\")\n",
    "    \n",
    "    for k,v in node_timeStamps_dict.items():\n",
    "        index_mask = np.logical_and(v >= latest_start, v <= earliest_end)\n",
    "        if np.sum(index_mask) > 0:\n",
    "            subG.add_node(k, timeStamps = G.nodes[k]['timeStamps'][index_mask], \n",
    "                             followers = G.nodes[k]['followers'][index_mask],\n",
    "                             friends = G.nodes[k]['friends'][index_mask],\n",
    "                             bot = G.nodes[k]['bot'][index_mask],\n",
    "                             verified = G.nodes[k]['verified'][index_mask])\n",
    "            \n",
    "    for k,v in edge_timeStamps_dict.items():\n",
    "        index_mask = np.logical_and(v >= latest_start, v <= earliest_end)\n",
    "        if np.sum(index_mask) > 0:\n",
    "            subG.add_edge(k[0], k[1], weight = np.sum(index_mask),\n",
    "                                      timeStamps = G.edges[k]['timeStamps'][index_mask], \n",
    "                                      newsCategories = G.edges[k]['newsCategories'][index_mask],\n",
    "                                      newsCategoriesGeneralised = G.edges[k]['newsCategoriesGeneralised'][index_mask])\n",
    "    \n",
    "    et = time.time()\n",
    "    elapsed_time = et - st\n",
    "    \n",
    "    if verbose:\n",
    "        print('Execution time:', elapsed_time/60, 'mins')\n",
    "        # Getting % usage of virtual_memory ( 3rd field)\n",
    "        print('RAM memory % used:', psutil.virtual_memory()[2])\n",
    "        # Getting usage of virtual_memory in GB ( 4th field)\n",
    "        print('RAM Used (GB):', psutil.virtual_memory()[3]/1000000000)\n",
    "        \n",
    "    return subG"
   ]
  },
  {
   "cell_type": "markdown",
   "id": "785af743",
   "metadata": {},
   "source": [
    "- Example 1 (also stored as \"G_filtered_sub1.gpickle\")"
   ]
  },
  {
   "cell_type": "code",
   "execution_count": 23,
   "id": "76abaeb3",
   "metadata": {},
   "outputs": [],
   "source": [
    "latest_start = cal_timestamps(\"2020-11-17\")\n",
    "earliest_end = cal_timestamps(\"2021-04-17\")"
   ]
  },
  {
   "cell_type": "code",
   "execution_count": 26,
   "id": "67beb0dc",
   "metadata": {},
   "outputs": [
    {
     "name": "stdout",
     "output_type": "stream",
     "text": [
      "Execution time: 0.9564726670583089 mins\n",
      "RAM memory % used: 18.7\n",
      "RAM Used (GB): 72.53110784\n"
     ]
    }
   ],
   "source": [
    "G_filtered_sub1 = get_temporal_subgraph(G_filtered, latest_start, earliest_end)"
   ]
  },
  {
   "cell_type": "code",
   "execution_count": 27,
   "id": "b6c609f5",
   "metadata": {},
   "outputs": [
    {
     "name": "stdout",
     "output_type": "stream",
     "text": [
      "Graph Type:  <class 'networkx.classes.digraph.DiGraph'>\n",
      "Node Num:  589056\n",
      "Edge Num:  1181826\n",
      "Weight Sum:  5625119.0\n"
     ]
    }
   ],
   "source": [
    "print_graph_info(G_filtered_sub1)"
   ]
  },
  {
   "cell_type": "code",
   "execution_count": 31,
   "id": "a97796a6",
   "metadata": {},
   "outputs": [
    {
     "data": {
      "text/plain": [
       "{'timeStamps': array([1605672432, 1606289507, 1606521767, 1607032140, 1607063024,\n",
       "        1607670568, 1607836752, 1607839129, 1607895469, 1607905374,\n",
       "        1607906033, 1607973754, 1608190572, 1608231168, 1608355516,\n",
       "        1608877286, 1610940635, 1612057318, 1613366818, 1613790610,\n",
       "        1615276042, 1616051274, 1616535967]),\n",
       " 'followers': array([2930, 2945, 2948, 2957, 2957, 2977, 2976, 2976, 2977, 2977, 2977,\n",
       "        2978, 2988, 2988, 2991, 2986, 3003, 3016, 3042, 3041, 3065, 3073,\n",
       "        3081]),\n",
       " 'friends': array([5002, 5000, 4999, 4995, 4995, 4999, 5000, 5000, 4999, 4999, 4999,\n",
       "        4996, 5001, 5001, 5000, 4989, 4999, 4996, 4997, 4999, 4993, 4990,\n",
       "        4984]),\n",
       " 'bot': array([0, 0, 1, 1, 1, 1, 0, 0, 1, 1, 1, 0, 0, 0, 0, 0, 0, 0, 0, 1, 1, 0,\n",
       "        0]),\n",
       " 'verified': array([0, 0, 0, 0, 0, 0, 0, 0, 0, 0, 0, 0, 0, 0, 0, 0, 0, 0, 0, 0, 0, 0,\n",
       "        0])}"
      ]
     },
     "execution_count": 31,
     "metadata": {},
     "output_type": "execute_result"
    }
   ],
   "source": [
    "G_filtered_sub1.nodes[26] # example"
   ]
  },
  {
   "cell_type": "code",
   "execution_count": 34,
   "id": "fa75ebfa",
   "metadata": {},
   "outputs": [
    {
     "data": {
      "text/plain": [
       "{'weight': 2,\n",
       " 'timeStamps': array([1605672432, 1612057318]),\n",
       " 'newsCategories': array([9, 3]),\n",
       " 'newsCategoriesGeneralised': array([2, 0])}"
      ]
     },
     "execution_count": 34,
     "metadata": {},
     "output_type": "execute_result"
    }
   ],
   "source": [
    "G_filtered_sub1.edges[(26, 10628236)] # example"
   ]
  },
  {
   "cell_type": "markdown",
   "id": "5834b25f",
   "metadata": {},
   "source": [
    "- Example 2 (also stored as \"G_filtered_sub2.gpickle\")"
   ]
  },
  {
   "cell_type": "code",
   "execution_count": 35,
   "id": "2f54deca",
   "metadata": {},
   "outputs": [],
   "source": [
    "latest_start = cal_timestamps(\"2021-11-17\")\n",
    "earliest_end = cal_timestamps(\"2022-04-17\")"
   ]
  },
  {
   "cell_type": "code",
   "execution_count": 36,
   "id": "2576b73e",
   "metadata": {},
   "outputs": [
    {
     "name": "stdout",
     "output_type": "stream",
     "text": [
      "Execution time: 0.8051692962646484 mins\n",
      "RAM memory % used: 21.5\n",
      "RAM Used (GB): 83.987980288\n"
     ]
    }
   ],
   "source": [
    "G_filtered_sub2 = get_temporal_subgraph(G_filtered, latest_start, earliest_end)"
   ]
  },
  {
   "cell_type": "code",
   "execution_count": 37,
   "id": "6b7a080b",
   "metadata": {},
   "outputs": [
    {
     "name": "stdout",
     "output_type": "stream",
     "text": [
      "Graph Type:  <class 'networkx.classes.digraph.DiGraph'>\n",
      "Node Num:  437991\n",
      "Edge Num:  729156\n",
      "Weight Sum:  2983210.0\n"
     ]
    }
   ],
   "source": [
    "print_graph_info(G_filtered_sub2)"
   ]
  },
  {
   "cell_type": "code",
   "execution_count": 38,
   "id": "8d93c4eb",
   "metadata": {},
   "outputs": [
    {
     "data": {
      "text/plain": [
       "{'timeStamps': array([1642537314]),\n",
       " 'followers': array([3196]),\n",
       " 'friends': array([4978]),\n",
       " 'bot': array([0]),\n",
       " 'verified': array([0])}"
      ]
     },
     "execution_count": 38,
     "metadata": {},
     "output_type": "execute_result"
    }
   ],
   "source": [
    "G_filtered_sub2.nodes[26] # example"
   ]
  },
  {
   "cell_type": "code",
   "execution_count": 41,
   "id": "72e0fb71",
   "metadata": {},
   "outputs": [
    {
     "data": {
      "text/plain": [
       "{'weight': 2,\n",
       " 'timeStamps': array([1640647341, 1641074689]),\n",
       " 'newsCategories': array([4, 4]),\n",
       " 'newsCategoriesGeneralised': array([2, 2])}"
      ]
     },
     "execution_count": 41,
     "metadata": {},
     "output_type": "execute_result"
    }
   ],
   "source": [
    "G_filtered_sub2.edges[(148, 1166275)] # example"
   ]
  }
 ],
 "metadata": {
  "kernelspec": {
   "display_name": "Python 3 (ipykernel)",
   "language": "python",
   "name": "python3"
  },
  "language_info": {
   "codemirror_mode": {
    "name": "ipython",
    "version": 3
   },
   "file_extension": ".py",
   "mimetype": "text/x-python",
   "name": "python",
   "nbconvert_exporter": "python",
   "pygments_lexer": "ipython3",
   "version": "3.8.13"
  }
 },
 "nbformat": 4,
 "nbformat_minor": 5
}
