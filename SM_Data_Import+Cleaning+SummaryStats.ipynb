{
 "cells": [
  {
   "cell_type": "code",
   "execution_count": 1,
   "id": "0e5d12cd",
   "metadata": {},
   "outputs": [],
   "source": [
    "import numpy as np\n",
    "import matplotlib.pyplot as plt\n",
    "\n",
    "import warnings\n",
    "warnings.filterwarnings('ignore')\n",
    "\n",
    "# Track data loading\n",
    "import psutil\n",
    "import time\n",
    "\n",
    "# Save&Load results\n",
    "import pickle"
   ]
  },
  {
   "cell_type": "code",
   "execution_count": 2,
   "id": "5e104f71",
   "metadata": {},
   "outputs": [
    {
     "name": "stdout",
     "output_type": "stream",
     "text": [
      "Total RAM: 375.90 GB\n"
     ]
    }
   ],
   "source": [
    "# Get RAM information\n",
    "total_ram = psutil.virtual_memory().total / (1024 ** 3)\n",
    "\n",
    "print(f\"Total RAM: {total_ram:.2f} GB\")"
   ]
  },
  {
   "cell_type": "markdown",
   "id": "16589213",
   "metadata": {},
   "source": [
    "# 1. Import Dataset"
   ]
  },
  {
   "cell_type": "code",
   "execution_count": 3,
   "id": "14f9672a",
   "metadata": {},
   "outputs": [],
   "source": [
    "file_path = 'Data/covid19_infodemic_RT_en_1584482894_1686211361_filtered_sorted.dat'\n",
    "\n",
    "num_rows = sum(1 for line in open(file_path))"
   ]
  },
  {
   "cell_type": "code",
   "execution_count": 4,
   "id": "5957adc9",
   "metadata": {},
   "outputs": [
    {
     "data": {
      "text/plain": [
       "114161884"
      ]
     },
     "execution_count": 4,
     "metadata": {},
     "output_type": "execute_result"
    }
   ],
   "source": [
    "num_rows "
   ]
  },
  {
   "cell_type": "markdown",
   "id": "78104b75",
   "metadata": {},
   "source": [
    "- **Header Data**"
   ]
  },
  {
   "cell_type": "markdown",
   "id": "da031539",
   "metadata": {},
   "source": [
    "Header data is stored in this dataset in the final row."
   ]
  },
  {
   "cell_type": "code",
   "execution_count": 5,
   "id": "2d0e8225",
   "metadata": {},
   "outputs": [],
   "source": [
    "data_header = np.loadtxt(file_path, dtype = 'str', delimiter = '|', skiprows = num_rows - 1, max_rows = 1)"
   ]
  },
  {
   "cell_type": "code",
   "execution_count": 6,
   "id": "403b5ace",
   "metadata": {},
   "outputs": [
    {
     "data": {
      "text/plain": [
       "array(['tweetID', 'tweetTimestamp', 'tweetType', 'fromUserID',\n",
       "       'fromUserIsBot', 'fromUserIsVerified', 'fromUserFollowers',\n",
       "       'fromUserFriends', 'toUserID', 'toUserIsBot', 'toUserIsVerified',\n",
       "       'toUserFollowers', 'toUserFriends', 'newsCategory'], dtype='<U18')"
      ]
     },
     "execution_count": 6,
     "metadata": {},
     "output_type": "execute_result"
    }
   ],
   "source": [
    "data_header"
   ]
  },
  {
   "cell_type": "markdown",
   "id": "f248391b",
   "metadata": {},
   "source": [
    "We manually clarify content in each column sequentially (14 columns in total):\n",
    "\n",
    "- **Col 0 - 2**: 'tweetID', 'tweetTimestamp', 'tweetType';\n",
    "- **Col 3 - 7**: 'fromUserID', 'fromUserIsBot', 'fromUserIsVerified', 'fromUserFollowers', 'fromUserFriends'; \n",
    "- **Col 8 - 12**: 'toUserID', 'toUserIsBot', 'toUserIsVerified', 'toUserFollowers', 'toUserVerified';\n",
    "- **Col 13**: 'newsCategory'\n",
    "\n",
    "Meanwhile, we skip this ending row when loading the dataset in the following."
   ]
  },
  {
   "cell_type": "markdown",
   "id": "057447d6",
   "metadata": {},
   "source": [
    "- **Data Sample Line**"
   ]
  },
  {
   "cell_type": "code",
   "execution_count": 7,
   "id": "bcc9cee2",
   "metadata": {},
   "outputs": [],
   "source": [
    "data_line_sample = np.loadtxt(file_path, dtype = 'str', delimiter = '|', max_rows = 1)"
   ]
  },
  {
   "cell_type": "code",
   "execution_count": 8,
   "id": "a2249c07",
   "metadata": {},
   "outputs": [
    {
     "data": {
      "text/plain": [
       "array(['1240052352247197699', '1584482894.0', 'RT', 'HmmBee', '0', '0',\n",
       "       '286', '571', 'jacobinmag', '1', '1', '263225', '63', 'POLITICAL'],\n",
       "      dtype='<U19')"
      ]
     },
     "execution_count": 8,
     "metadata": {},
     "output_type": "execute_result"
    }
   ],
   "source": [
    "data_line_sample"
   ]
  },
  {
   "cell_type": "markdown",
   "id": "15ea216b",
   "metadata": {},
   "source": [
    "We assign data separately to variables 'data_str' and 'data_int' to avoid excessive RAM consumption associated with importing the entire dataset as 'string' type."
   ]
  },
  {
   "cell_type": "markdown",
   "id": "d9cfb52e",
   "metadata": {},
   "source": [
    "- **data_str**: tweetType, fromUserID, toUserID, newsCategory"
   ]
  },
  {
   "cell_type": "code",
   "execution_count": 9,
   "id": "f26f514f",
   "metadata": {},
   "outputs": [
    {
     "name": "stdout",
     "output_type": "stream",
     "text": [
      "Execution time: 3.078679116566976 mins\n",
      "RAM memory % used: 9.9\n",
      "RAM Used (GB): 36.893618176\n"
     ]
    }
   ],
   "source": [
    "st = time.time()\n",
    "\n",
    "data_str = np.loadtxt(file_path, max_rows = num_rows - 1, dtype = 'str', delimiter = '|', usecols = (2, 3, 8, 13))\n",
    "\n",
    "et = time.time()\n",
    "elapsed_time = et - st\n",
    "\n",
    "print('Execution time:', elapsed_time/60, 'mins')\n",
    "# Getting % usage of virtual_memory ( 3rd field)\n",
    "print('RAM memory % used:', psutil.virtual_memory()[2])\n",
    "# Getting usage of virtual_memory in GB ( 4th field)\n",
    "print('RAM Used (GB):', psutil.virtual_memory()[3]/1000000000)"
   ]
  },
  {
   "cell_type": "code",
   "execution_count": 10,
   "id": "ed280523",
   "metadata": {},
   "outputs": [
    {
     "data": {
      "text/plain": [
       "(114161883, 4)"
      ]
     },
     "execution_count": 10,
     "metadata": {},
     "output_type": "execute_result"
    }
   ],
   "source": [
    "np.shape(data_str)"
   ]
  },
  {
   "cell_type": "markdown",
   "id": "3084911a",
   "metadata": {},
   "source": [
    "- **data_int**: 'tweetID', 'tweetTimestamp', 'fromUserIsBot', 'fromUserIsVerified', 'fromUserFollowers', 'fromUserFriends', 'toUserIsBot', 'toUserIsVerified', 'toUserFollowers', 'toUserFriends'"
   ]
  },
  {
   "cell_type": "code",
   "execution_count": 11,
   "id": "5010d3ce",
   "metadata": {},
   "outputs": [
    {
     "name": "stdout",
     "output_type": "stream",
     "text": [
      "Execution time: 1.5398907303810119 mins\n",
      "RAM memory % used: 12.2\n",
      "RAM Used (GB): 46.046941184\n"
     ]
    }
   ],
   "source": [
    "st = time.time()\n",
    "\n",
    "data_int = np.loadtxt(file_path, max_rows = num_rows - 1, dtype = np.int64, delimiter = \"|\", usecols = (0,1,4,5,6,7,9,10,11,12))\n",
    "\n",
    "et = time.time()\n",
    "elapsed_time = et - st\n",
    "\n",
    "print('Execution time:', elapsed_time/60, 'mins')\n",
    "# Getting % usage of virtual_memory ( 3rd field)\n",
    "print('RAM memory % used:', psutil.virtual_memory()[2])\n",
    "# Getting usage of virtual_memory in GB ( 4th field)\n",
    "print('RAM Used (GB):', psutil.virtual_memory()[3]/1000000000)"
   ]
  },
  {
   "cell_type": "code",
   "execution_count": 12,
   "id": "bd39d182",
   "metadata": {},
   "outputs": [
    {
     "data": {
      "text/plain": [
       "(114161883, 10)"
      ]
     },
     "execution_count": 12,
     "metadata": {},
     "output_type": "execute_result"
    }
   ],
   "source": [
    "np.shape(data_int)"
   ]
  },
  {
   "cell_type": "markdown",
   "id": "54b498eb",
   "metadata": {},
   "source": [
    "# 2. Data Cleaning"
   ]
  },
  {
   "cell_type": "markdown",
   "id": "9b64de50",
   "metadata": {},
   "source": [
    "- **repeated tweetIDs**: Remove data lines with repeated tweetIDs (0.25%)"
   ]
  },
  {
   "cell_type": "code",
   "execution_count": 17,
   "id": "891451bb",
   "metadata": {},
   "outputs": [],
   "source": [
    "index_retain1 = np.unique(data_int[:, 0], return_index=True)[1]"
   ]
  },
  {
   "cell_type": "code",
   "execution_count": 18,
   "id": "d9c2598a",
   "metadata": {},
   "outputs": [
    {
     "data": {
      "text/plain": [
       "(296078, 0.0025934926108392986)"
      ]
     },
     "execution_count": 18,
     "metadata": {},
     "output_type": "execute_result"
    }
   ],
   "source": [
    "len(data_int[:, 0]) - len(index_retain1), 1 - len(index_retain1)/len(data_int[:, 0])"
   ]
  },
  {
   "cell_type": "code",
   "execution_count": 19,
   "id": "3c03aebf",
   "metadata": {},
   "outputs": [
    {
     "data": {
      "text/plain": [
       "array([        0,         1,         2, ..., 114161880, 114161881,\n",
       "       114161882])"
      ]
     },
     "execution_count": 19,
     "metadata": {},
     "output_type": "execute_result"
    }
   ],
   "source": [
    "index_retain1"
   ]
  },
  {
   "cell_type": "markdown",
   "id": "c785d1ed",
   "metadata": {},
   "source": [
    "- **newsCategory**: there are 189,355 data lines (0.16%) with newsCateogry \"\" (i.e., empty). \"NA\" refers to retweets that contain URLs but not included in our URLs database. "
   ]
  },
  {
   "cell_type": "code",
   "execution_count": 49,
   "id": "0bcd7110",
   "metadata": {},
   "outputs": [
    {
     "data": {
      "text/plain": [
       "(189355, 0.001658653440395688)"
      ]
     },
     "execution_count": 49,
     "metadata": {},
     "output_type": "execute_result"
    }
   ],
   "source": [
    "len(np.where(data_str[:, -1] == \"\")[0]), len(np.where(data_str[:, -1] == \"\")[0])/len(data_str[:, -1])"
   ]
  },
  {
   "cell_type": "code",
   "execution_count": 48,
   "id": "002488cb",
   "metadata": {},
   "outputs": [
    {
     "data": {
      "text/plain": [
       "(29710400, 0.260247984872499)"
      ]
     },
     "execution_count": 48,
     "metadata": {},
     "output_type": "execute_result"
    }
   ],
   "source": [
    "#len(np.where(data_str[:, -1] == \"NA\")[0]), len(np.where(data_str[:, -1] == \"NA\")[0])/len(data_str[:, -1])"
   ]
  },
  {
   "cell_type": "code",
   "execution_count": 56,
   "id": "770b9285",
   "metadata": {},
   "outputs": [],
   "source": [
    "#index_remove2 = np.union1d(np.where(data_str[:, -1] == \"\")[0], np.where(data_str[:, -1] == \"NA\")[0])"
   ]
  },
  {
   "cell_type": "code",
   "execution_count": 77,
   "id": "97bcbd51",
   "metadata": {},
   "outputs": [],
   "source": [
    "index_remove2 = np.where(data_str[:, -1] == \"\")[0]"
   ]
  },
  {
   "cell_type": "code",
   "execution_count": 78,
   "id": "4522702b",
   "metadata": {},
   "outputs": [
    {
     "data": {
      "text/plain": [
       "(189355, 0.001658653440395688)"
      ]
     },
     "execution_count": 78,
     "metadata": {},
     "output_type": "execute_result"
    }
   ],
   "source": [
    "len(index_remove2), len(index_remove2)/len(data_str[:, -1])"
   ]
  },
  {
   "cell_type": "code",
   "execution_count": 79,
   "id": "b2068b15",
   "metadata": {},
   "outputs": [],
   "source": [
    "all_index = np.arange(0, len(data_str[:, -1]), 1)\n",
    "mask = np.isin(all_index, index_remove2)\n",
    "index_retain2 = all_index[~mask]"
   ]
  },
  {
   "cell_type": "code",
   "execution_count": 80,
   "id": "397bee20",
   "metadata": {},
   "outputs": [
    {
     "data": {
      "text/plain": [
       "array([        0,         1,         2, ..., 114161880, 114161881,\n",
       "       114161882])"
      ]
     },
     "execution_count": 80,
     "metadata": {},
     "output_type": "execute_result"
    }
   ],
   "source": [
    "index_retain2"
   ]
  },
  {
   "cell_type": "markdown",
   "id": "b264c8fc",
   "metadata": {},
   "source": [
    "- **fromUserFollowers, fromUserFriends**: there is a single data line where both fromUserFollowers and fromUserFriends are recorded as -1, corresponding to tweetID 1445440938491396098"
   ]
  },
  {
   "cell_type": "code",
   "execution_count": 81,
   "id": "4d88b882",
   "metadata": {},
   "outputs": [],
   "source": [
    "index_remove3 = np.where(data_int[:, 0] == 1445440938491396098)[0]"
   ]
  },
  {
   "cell_type": "code",
   "execution_count": 82,
   "id": "cdee9003",
   "metadata": {},
   "outputs": [
    {
     "data": {
      "text/plain": [
       "(1, 8.759491116662818e-09)"
      ]
     },
     "execution_count": 82,
     "metadata": {},
     "output_type": "execute_result"
    }
   ],
   "source": [
    "len(index_remove3), len(index_remove3)/len(data_str[:, -1])"
   ]
  },
  {
   "cell_type": "code",
   "execution_count": 83,
   "id": "639ec2d0",
   "metadata": {},
   "outputs": [],
   "source": [
    "mask = np.isin(all_index, index_remove3)\n",
    "index_retain3 = all_index[~mask]"
   ]
  },
  {
   "cell_type": "code",
   "execution_count": 84,
   "id": "76972210",
   "metadata": {},
   "outputs": [
    {
     "data": {
      "text/plain": [
       "array([        0,         1,         2, ..., 114161880, 114161881,\n",
       "       114161882])"
      ]
     },
     "execution_count": 84,
     "metadata": {},
     "output_type": "execute_result"
    }
   ],
   "source": [
    "index_retain3"
   ]
  },
  {
   "cell_type": "markdown",
   "id": "67e3cb8a",
   "metadata": {},
   "source": [
    "**Find Intersection**"
   ]
  },
  {
   "cell_type": "code",
   "execution_count": 85,
   "id": "d9650381",
   "metadata": {},
   "outputs": [],
   "source": [
    "index_retain = np.intersect1d(index_retain1, np.intersect1d(index_retain2, index_retain3))"
   ]
  },
  {
   "cell_type": "code",
   "execution_count": 33,
   "id": "927e6f26",
   "metadata": {},
   "outputs": [
    {
     "data": {
      "text/plain": [
       "array([        0,         1,         2, ..., 114161880, 114161881,\n",
       "       114161882])"
      ]
     },
     "execution_count": 33,
     "metadata": {},
     "output_type": "execute_result"
    }
   ],
   "source": [
    "index_retain"
   ]
  },
  {
   "cell_type": "code",
   "execution_count": 86,
   "id": "3152d42f",
   "metadata": {},
   "outputs": [
    {
     "data": {
      "text/plain": [
       "(113685100, 0.9958236235469241)"
      ]
     },
     "execution_count": 86,
     "metadata": {},
     "output_type": "execute_result"
    }
   ],
   "source": [
    "len(index_retain), len(index_retain)/len(all_index)"
   ]
  },
  {
   "cell_type": "markdown",
   "id": "86178de2",
   "metadata": {},
   "source": [
    "## 2.1. Save&Load Retained Index"
   ]
  },
  {
   "cell_type": "markdown",
   "id": "88875514",
   "metadata": {},
   "source": [
    "- Save"
   ]
  },
  {
   "cell_type": "code",
   "execution_count": 87,
   "id": "e7d012a0",
   "metadata": {},
   "outputs": [],
   "source": [
    "with open('Data/dataCleaning_indexRetain.pickle', 'wb') as file:\n",
    "    pickle.dump(index_retain, file)"
   ]
  },
  {
   "cell_type": "markdown",
   "id": "990d7bf0",
   "metadata": {},
   "source": [
    "- Load"
   ]
  },
  {
   "cell_type": "code",
   "execution_count": 34,
   "id": "79adbf35",
   "metadata": {},
   "outputs": [],
   "source": [
    "with open('Data/dataCleaning_indexRetain.pickle', 'rb') as file:\n",
    "    index_retain =  pickle.load(file)"
   ]
  },
  {
   "cell_type": "markdown",
   "id": "fa06798a",
   "metadata": {},
   "source": [
    "# 3. SummaryStats"
   ]
  },
  {
   "cell_type": "markdown",
   "id": "ee52d884",
   "metadata": {},
   "source": [
    "## 3.1. Data Timeframe"
   ]
  },
  {
   "cell_type": "markdown",
   "id": "b17026c2",
   "metadata": {},
   "source": [
    "Start from 7 March 2020, collected second by second"
   ]
  },
  {
   "cell_type": "code",
   "execution_count": 89,
   "id": "76dbbb8c",
   "metadata": {},
   "outputs": [
    {
     "data": {
      "text/plain": [
       "(1584482894, 1676174362)"
      ]
     },
     "execution_count": 89,
     "metadata": {},
     "output_type": "execute_result"
    }
   ],
   "source": [
    "min(data_int[:, 1][index_retain]), max(data_int[:, 1][index_retain])"
   ]
  },
  {
   "cell_type": "code",
   "execution_count": 90,
   "id": "9028610b",
   "metadata": {},
   "outputs": [
    {
     "data": {
      "text/plain": [
       "1061.2438425925925"
      ]
     },
     "execution_count": 90,
     "metadata": {},
     "output_type": "execute_result"
    }
   ],
   "source": [
    "(max(data_int[:, 1][index_retain]) - min(data_int[:, 1][index_retain]))/(24*60*60)"
   ]
  },
  {
   "cell_type": "code",
   "execution_count": 91,
   "id": "7d27fee6",
   "metadata": {},
   "outputs": [
    {
     "name": "stdout",
     "output_type": "stream",
     "text": [
      "Date 1061 days after March 7, 2020 is: 2023-02-01\n"
     ]
    }
   ],
   "source": [
    "from datetime import datetime, timedelta\n",
    "\n",
    "# Starting date\n",
    "start_date = datetime(2020, 3, 7)\n",
    "\n",
    "# Calculate the date 1061 days later\n",
    "result_date = start_date + timedelta(days=1061)\n",
    "\n",
    "print(\"Date 1061 days after March 7, 2020 is:\", result_date.strftime(\"%Y-%m-%d\"))"
   ]
  },
  {
   "cell_type": "markdown",
   "id": "fbac1379",
   "metadata": {},
   "source": [
    "## 3.2. News Category"
   ]
  },
  {
   "cell_type": "code",
   "execution_count": 18,
   "id": "3428b5fb",
   "metadata": {},
   "outputs": [
    {
     "data": {
      "text/plain": [
       "array(['CLICKBAIT', 'CONSPIRACY/JUNKSCI', 'FAKE/HOAX', 'MSM', 'NA',\n",
       "       'OTHER', 'POLITICAL', 'SATIRE', 'SCIENCE', 'SHADOW'], dtype='<U18')"
      ]
     },
     "execution_count": 18,
     "metadata": {},
     "output_type": "execute_result"
    }
   ],
   "source": [
    "newsCategory = np.unique(data_str[:, -1][index_retain])\n",
    "newsCategory"
   ]
  },
  {
   "cell_type": "code",
   "execution_count": 15,
   "id": "02735e32",
   "metadata": {},
   "outputs": [
    {
     "data": {
      "image/png": "[encoded data removed]",
      "text/plain": [
       "<Figure size 2000x600 with 1 Axes>"
      ]
     },
     "metadata": {},
     "output_type": "display_data"
    }
   ],
   "source": [
    "# Count the occurrences of each category\n",
    "category_counts = {category: np.count_nonzero(data_str[index_retain, -1] == category) for category in newsCategory}\n",
    "\n",
    "# Bar plot with switching sequence\n",
    "\n",
    "fig, axs = plt.subplots(figsize=(20,6))\n",
    "\n",
    "X = ['SCIENCE', 'MSM', 'CONSPIRACY/JUNKSCI', 'FAKE/HOAX', 'CLICKBAIT', 'POLITICAL', 'SHADOW', 'SATIRE', 'OTHER', 'NA']\n",
    "axs.bar(X, [category_counts[X[i]] for i in range(len(X))], color = '#403d39')\n",
    "\n",
    "plt.xticks(fontsize = 20, rotation = 45); plt.yticks(fontsize = 20)\n",
    "plt.yscale('log') \n",
    "plt.ylabel(\"Number of Tweets\", fontsize = 20)\n",
    "\n",
    "\n",
    "my_colors = ['tab:blue']*2 + ['tab:red']*3 + ['tab:green']*5\n",
    "\n",
    "for ticklabel, tickcolor in zip(plt.gca().get_xticklabels(), my_colors):\n",
    "    ticklabel.set_color(tickcolor)\n",
    "    \n",
    "axs.spines['right'].set_visible(False)\n",
    "axs.spines['top'].set_visible(False)"
   ]
  },
  {
   "cell_type": "code",
   "execution_count": 103,
   "id": "90ad2603",
   "metadata": {},
   "outputs": [
    {
     "data": {
      "text/plain": [
       "{'NA': 29615585,\n",
       " 'OTHER': 2793839,\n",
       " 'SHADOW': 18120185,\n",
       " 'CONSPIRACY/JUNKSCI': 1783052,\n",
       " 'MSM': 40711848,\n",
       " 'SCIENCE': 1183951,\n",
       " 'SATIRE': 258135,\n",
       " 'CLICKBAIT': 1926902,\n",
       " 'FAKE/HOAX': 5088717,\n",
       " 'POLITICAL': 12202886}"
      ]
     },
     "execution_count": 103,
     "metadata": {},
     "output_type": "execute_result"
    }
   ],
   "source": [
    "category_counts"
   ]
  },
  {
   "cell_type": "markdown",
   "id": "70e6eb3c",
   "metadata": {},
   "source": [
    "- scientific"
   ]
  },
  {
   "cell_type": "code",
   "execution_count": 110,
   "id": "9b9f56ad",
   "metadata": {},
   "outputs": [],
   "source": [
    "sci_sum = category_counts['SCIENCE'] + category_counts['MSM']"
   ]
  },
  {
   "cell_type": "code",
   "execution_count": 111,
   "id": "5672e0d3",
   "metadata": {},
   "outputs": [
    {
     "data": {
      "text/plain": [
       "(41895799, 0.3685249782073464)"
      ]
     },
     "execution_count": 111,
     "metadata": {},
     "output_type": "execute_result"
    }
   ],
   "source": [
    "sci_sum, sci_sum/len(data_str[:, -1][index_retain])"
   ]
  },
  {
   "cell_type": "markdown",
   "id": "2887135f",
   "metadata": {},
   "source": [
    "- fake"
   ]
  },
  {
   "cell_type": "code",
   "execution_count": 112,
   "id": "bea17265",
   "metadata": {},
   "outputs": [],
   "source": [
    "fake_sum = category_counts['CONSPIRACY/JUNKSCI'] + category_counts['FAKE/HOAX'] + category_counts['CLICKBAIT']"
   ]
  },
  {
   "cell_type": "code",
   "execution_count": 113,
   "id": "68174ff0",
   "metadata": {},
   "outputs": [
    {
     "data": {
      "text/plain": [
       "(8798671, 0.07739511158454362)"
      ]
     },
     "execution_count": 113,
     "metadata": {},
     "output_type": "execute_result"
    }
   ],
   "source": [
    "fake_sum, fake_sum/len(data_str[:, -1][index_retain])"
   ]
  },
  {
   "cell_type": "markdown",
   "id": "2b513871",
   "metadata": {},
   "source": [
    "- uncertain"
   ]
  },
  {
   "cell_type": "code",
   "execution_count": 114,
   "id": "cc1e9024",
   "metadata": {},
   "outputs": [],
   "source": [
    "uncertain_sum = len(data_str[:, -1][index_retain]) - sci_sum - fake_sum"
   ]
  },
  {
   "cell_type": "code",
   "execution_count": 115,
   "id": "3d9cb3fc",
   "metadata": {},
   "outputs": [
    {
     "data": {
      "text/plain": [
       "(62990630, 0.55407991020811)"
      ]
     },
     "execution_count": 115,
     "metadata": {},
     "output_type": "execute_result"
    }
   ],
   "source": [
    "uncertain_sum, uncertain_sum/len(data_str[:, -1][index_retain])"
   ]
  },
  {
   "cell_type": "markdown",
   "id": "7436a012",
   "metadata": {},
   "source": [
    "### 3.2.1. Encoding & Decoding"
   ]
  },
  {
   "cell_type": "markdown",
   "id": "5b8b1733",
   "metadata": {},
   "source": [
    "- Encode tweetNewsCategory into integers (so as to reduce computation time)"
   ]
  },
  {
   "cell_type": "code",
   "execution_count": 19,
   "id": "57ab23e0",
   "metadata": {},
   "outputs": [],
   "source": [
    "newsCateogry_dict_encode = {newsCategory[i]:i for i in range(len(newsCategory))}"
   ]
  },
  {
   "cell_type": "code",
   "execution_count": 20,
   "id": "60337639",
   "metadata": {},
   "outputs": [
    {
     "data": {
      "text/plain": [
       "{'CLICKBAIT': 0,\n",
       " 'CONSPIRACY/JUNKSCI': 1,\n",
       " 'FAKE/HOAX': 2,\n",
       " 'MSM': 3,\n",
       " 'NA': 4,\n",
       " 'OTHER': 5,\n",
       " 'POLITICAL': 6,\n",
       " 'SATIRE': 7,\n",
       " 'SCIENCE': 8,\n",
       " 'SHADOW': 9}"
      ]
     },
     "execution_count": 20,
     "metadata": {},
     "output_type": "execute_result"
    }
   ],
   "source": [
    "newsCateogry_dict_encode"
   ]
  },
  {
   "cell_type": "markdown",
   "id": "dcb31ae8",
   "metadata": {},
   "source": [
    "- Decode"
   ]
  },
  {
   "cell_type": "code",
   "execution_count": 21,
   "id": "9c20a637",
   "metadata": {},
   "outputs": [],
   "source": [
    "newsCateogry_dict_decode = {i:newsCategory[i] for i in range(len(newsCategory))}"
   ]
  },
  {
   "cell_type": "code",
   "execution_count": 22,
   "id": "15885952",
   "metadata": {},
   "outputs": [
    {
     "data": {
      "text/plain": [
       "{0: 'CLICKBAIT',\n",
       " 1: 'CONSPIRACY/JUNKSCI',\n",
       " 2: 'FAKE/HOAX',\n",
       " 3: 'MSM',\n",
       " 4: 'NA',\n",
       " 5: 'OTHER',\n",
       " 6: 'POLITICAL',\n",
       " 7: 'SATIRE',\n",
       " 8: 'SCIENCE',\n",
       " 9: 'SHADOW'}"
      ]
     },
     "execution_count": 22,
     "metadata": {},
     "output_type": "execute_result"
    }
   ],
   "source": [
    "newsCateogry_dict_decode"
   ]
  },
  {
   "cell_type": "code",
   "execution_count": 56,
   "id": "2d3d69c7",
   "metadata": {},
   "outputs": [],
   "source": [
    "newsCateogry_dict_generalised_code = {3: 0,  # sciInfo\n",
    "                                      8: 0,\n",
    "                                      1: 1,  # misInfo\n",
    "                                      2: 1,\n",
    "                                      7: 1,\n",
    "                                      0: 2,  # undecidedInfo\n",
    "                                      4: 2,\n",
    "                                      5: 2, \n",
    "                                      6: 2,\n",
    "                                      9: 2,\n",
    "                                     }"
   ]
  },
  {
   "cell_type": "markdown",
   "id": "519c070c",
   "metadata": {},
   "source": [
    "- Save & Load"
   ]
  },
  {
   "cell_type": "code",
   "execution_count": 57,
   "id": "fb16bab7",
   "metadata": {},
   "outputs": [],
   "source": [
    "with open('Graphs/newsCateogry_dict_decode.pickle', 'wb') as file:\n",
    "    pickle.dump(newsCateogry_dict_decode, file)\n",
    "with open('Graphs/newsCateogry_dict_generalised_code.pickle', 'wb') as file:\n",
    "    pickle.dump(newsCateogry_dict_generalised_code, file)"
   ]
  },
  {
   "cell_type": "code",
   "execution_count": 55,
   "id": "ec5a1e44",
   "metadata": {},
   "outputs": [],
   "source": [
    "with open('Graphs/newsCateogry_dict_decode.pickle', 'rb') as file:\n",
    "    newsCateogry_dict_decode =  pickle.load(file)"
   ]
  },
  {
   "cell_type": "markdown",
   "id": "56b8c894",
   "metadata": {},
   "source": [
    "## 3.3. Users"
   ]
  },
  {
   "cell_type": "code",
   "execution_count": 37,
   "id": "da7e0459",
   "metadata": {},
   "outputs": [],
   "source": [
    "unique_users = np.union1d(data_str[:, 1][index_retain], data_str[:, 2][index_retain])"
   ]
  },
  {
   "cell_type": "code",
   "execution_count": 38,
   "id": "eecc7a3e",
   "metadata": {},
   "outputs": [
    {
     "data": {
      "text/plain": [
       "13948159"
      ]
     },
     "execution_count": 38,
     "metadata": {},
     "output_type": "execute_result"
    }
   ],
   "source": [
    "len(unique_users)"
   ]
  },
  {
   "cell_type": "markdown",
   "id": "9fc61f79",
   "metadata": {},
   "source": [
    "### 3.3.1. Encoding & Decoding"
   ]
  },
  {
   "cell_type": "markdown",
   "id": "cb251eec",
   "metadata": {},
   "source": [
    "- Encode users' ID into integers (so as to reduce computation time)"
   ]
  },
  {
   "cell_type": "code",
   "execution_count": 41,
   "id": "914d6ba0",
   "metadata": {},
   "outputs": [],
   "source": [
    "user_dict_encode = {unique_users[i]:i for i in range(len(unique_users))}"
   ]
  },
  {
   "cell_type": "markdown",
   "id": "967eac01",
   "metadata": {},
   "source": [
    "- Decode"
   ]
  },
  {
   "cell_type": "code",
   "execution_count": 47,
   "id": "afb79c6a",
   "metadata": {},
   "outputs": [],
   "source": [
    "user_dict_decode = {i:unique_users[i] for i in range(len(unique_users))}"
   ]
  },
  {
   "cell_type": "markdown",
   "id": "4077427f",
   "metadata": {},
   "source": [
    "- Save & Load"
   ]
  },
  {
   "cell_type": "code",
   "execution_count": 51,
   "id": "4f38def1",
   "metadata": {},
   "outputs": [],
   "source": [
    "with open('Graphs/user_dict_decode.pickle', 'wb') as file:\n",
    "    pickle.dump(user_dict_decode, file)"
   ]
  },
  {
   "cell_type": "code",
   "execution_count": 52,
   "id": "e4f2a291",
   "metadata": {},
   "outputs": [],
   "source": [
    "with open('Graphs/user_dict_decode.pickle', 'rb') as file:\n",
    "    user_dict_decode =  pickle.load(file)"
   ]
  },
  {
   "cell_type": "code",
   "execution_count": 53,
   "id": "81227c89",
   "metadata": {},
   "outputs": [
    {
     "data": {
      "text/plain": [
       "('ladbible', 'WhiteHouse')"
      ]
     },
     "execution_count": 53,
     "metadata": {},
     "output_type": "execute_result"
    }
   ],
   "source": [
    "user_dict_decode[10645250], user_dict_decode[6827149] # example"
   ]
  }
 ],
 "metadata": {
  "kernelspec": {
   "display_name": "Python 3 (ipykernel)",
   "language": "python",
   "name": "python3"
  },
  "language_info": {
   "codemirror_mode": {
    "name": "ipython",
    "version": 3
   },
   "file_extension": ".py",
   "mimetype": "text/x-python",
   "name": "python",
   "nbconvert_exporter": "python",
   "pygments_lexer": "ipython3",
   "version": "3.8.13"
  }
 },
 "nbformat": 4,
 "nbformat_minor": 5
}
