{
 "cells": [
  {
   "cell_type": "code",
   "execution_count": 1,
   "id": "d8b35cc4",
   "metadata": {},
   "outputs": [],
   "source": [
    "import numpy as np\n",
    "import matplotlib.pyplot as plt\n",
    "import networkx as nx\n",
    "\n",
    "import warnings\n",
    "warnings.filterwarnings('ignore')\n",
    "\n",
    "# Track data loading\n",
    "import psutil\n",
    "import time\n",
    "\n",
    "# Save&Load results\n",
    "import pickle"
   ]
  },
  {
   "cell_type": "markdown",
   "id": "55208d42",
   "metadata": {},
   "source": [
    "# 1. Import Dataset"
   ]
  },
  {
   "cell_type": "code",
   "execution_count": 2,
   "id": "7fa4e757",
   "metadata": {},
   "outputs": [],
   "source": [
    "file_path = 'data/covid19_infodemic_RT_en.dat'\n",
    "\n",
    "num_rows = sum(1 for line in open(file_path))"
   ]
  },
  {
   "cell_type": "code",
   "execution_count": 3,
   "id": "b79116e1",
   "metadata": {},
   "outputs": [
    {
     "data": {
      "text/plain": [
       "114161884"
      ]
     },
     "execution_count": 3,
     "metadata": {},
     "output_type": "execute_result"
    }
   ],
   "source": [
    "num_rows "
   ]
  },
  {
   "cell_type": "markdown",
   "id": "d0baaf2e",
   "metadata": {},
   "source": [
    "- **data_str**: fromUserID, toUserID, newsCategory"
   ]
  },
  {
   "cell_type": "code",
   "execution_count": 4,
   "id": "b1c747c3",
   "metadata": {},
   "outputs": [
    {
     "name": "stdout",
     "output_type": "stream",
     "text": [
      "Execution time: 2.469197690486908 mins\n",
      "RAM memory % used: 18.5\n",
      "RAM Used (GB): 71.717261312\n"
     ]
    }
   ],
   "source": [
    "st = time.time()\n",
    "\n",
    "data_str = np.loadtxt(file_path, max_rows = num_rows - 1, dtype = 'str', delimiter = '|', usecols = (3, 8, 13))\n",
    "\n",
    "et = time.time()\n",
    "elapsed_time = et - st\n",
    "\n",
    "print('Execution time:', elapsed_time/60, 'mins')\n",
    "# Getting % usage of virtual_memory ( 3rd field)\n",
    "print('RAM memory % used:', psutil.virtual_memory()[2])\n",
    "# Getting usage of virtual_memory in GB ( 4th field)\n",
    "print('RAM Used (GB):', psutil.virtual_memory()[3]/1000000000)"
   ]
  },
  {
   "cell_type": "markdown",
   "id": "b4b14ce9",
   "metadata": {},
   "source": [
    "- **data_int**:'tweetID', 'tweetTimestamp', 'fromUserIsBot', 'fromUserIsVerified', 'fromUserFollowers', 'fromUserFriends', 'toUserIsBot', 'toUserIsVerified', 'toUserFollowers', 'toUserFriends'"
   ]
  },
  {
   "cell_type": "code",
   "execution_count": 5,
   "id": "e99ea3c5",
   "metadata": {},
   "outputs": [
    {
     "name": "stdout",
     "output_type": "stream",
     "text": [
      "Execution time: 1.5251804312070212 mins\n",
      "RAM memory % used: 20.7\n",
      "RAM Used (GB): 80.679346176\n"
     ]
    }
   ],
   "source": [
    "st = time.time()\n",
    "\n",
    "data_int = np.loadtxt(file_path, max_rows = num_rows - 1, dtype = np.int64, delimiter = \"|\", usecols = (0,1,4,5,6,7,9,10,11,12))\n",
    "\n",
    "et = time.time()\n",
    "elapsed_time = et - st\n",
    "\n",
    "print('Execution time:', elapsed_time/60, 'mins')\n",
    "# Getting % usage of virtual_memory ( 3rd field)\n",
    "print('RAM memory % used:', psutil.virtual_memory()[2])\n",
    "# Getting usage of virtual_memory in GB ( 4th field)\n",
    "print('RAM Used (GB):', psutil.virtual_memory()[3]/1000000000)"
   ]
  },
  {
   "cell_type": "markdown",
   "id": "3913319b",
   "metadata": {},
   "source": [
    "- **data cleaning**"
   ]
  },
  {
   "cell_type": "code",
   "execution_count": 6,
   "id": "37234028",
   "metadata": {},
   "outputs": [],
   "source": [
    "with open('Results/index_retain.pickle', 'rb') as file:\n",
    "    index_retain =  pickle.load(file)"
   ]
  },
  {
   "cell_type": "markdown",
   "id": "f88b8980",
   "metadata": {},
   "source": [
    "- **ID mapping**"
   ]
  },
  {
   "cell_type": "code",
   "execution_count": 7,
   "id": "8b3de90e",
   "metadata": {},
   "outputs": [],
   "source": [
    "with open('mappingID/user_dict_decode.pickle', 'rb') as file:\n",
    "    user_dict_decode =  pickle.load(file)"
   ]
  },
  {
   "cell_type": "code",
   "execution_count": 8,
   "id": "f12716fa",
   "metadata": {},
   "outputs": [],
   "source": [
    "user_dict_encode = dict(zip(user_dict_decode.values(), user_dict_decode.keys()))"
   ]
  },
  {
   "cell_type": "code",
   "execution_count": 9,
   "id": "1e6fc6c1",
   "metadata": {},
   "outputs": [],
   "source": [
    "with open('mappingID/newsCateogry_dict_decode.pickle', 'rb') as file:\n",
    "    newsCateogry_dict_decode =  pickle.load(file)"
   ]
  },
  {
   "cell_type": "code",
   "execution_count": 10,
   "id": "f242f0e6",
   "metadata": {},
   "outputs": [],
   "source": [
    "newsCateogry_dict_encode = dict(zip(newsCateogry_dict_decode.values(), newsCateogry_dict_decode.keys()))"
   ]
  },
  {
   "cell_type": "markdown",
   "id": "f2c5f4d4",
   "metadata": {},
   "source": [
    "# 3. Construct Network (Unattributed)"
   ]
  },
  {
   "cell_type": "markdown",
   "id": "1518c74d",
   "metadata": {},
   "source": [
    "**Weighted Directed Edges**: Weight obtained by the number of generated tweets"
   ]
  },
  {
   "cell_type": "markdown",
   "id": "1ebc29d4",
   "metadata": {},
   "source": [
    "- Construct Network"
   ]
  },
  {
   "cell_type": "code",
   "execution_count": 16,
   "id": "f6b62974",
   "metadata": {},
   "outputs": [],
   "source": [
    "G_unattributed = nx.DiGraph()\n",
    "G_unattributed.add_nodes_from(np.arange(0, len(user_dict_encode), 1))"
   ]
  },
  {
   "cell_type": "code",
   "execution_count": 17,
   "id": "1fb0eaf2",
   "metadata": {},
   "outputs": [
    {
     "name": "stdout",
     "output_type": "stream",
     "text": [
      "Execution time: 14.819688963890076 mins\n",
      "RAM memory % used: 30.9\n",
      "RAM Used (GB): 121.70164224\n"
     ]
    }
   ],
   "source": [
    "st = time.time()\n",
    "\n",
    "for i in index_retain:\n",
    "    from_user = user_dict_encode[data_str[:, 0][i]]\n",
    "    to_user = user_dict_encode[data_str[:, 1][i]]\n",
    "    timestamp = data_int[:, 1][i]\n",
    "    \n",
    "    # Add edge\n",
    "    if G_unattributed.has_edge(from_user, to_user):\n",
    "        G_unattributed.edges[(from_user, to_user)][\"weight\"] += 1\n",
    "    else:\n",
    "        G_unattributed.add_edge(from_user, to_user, weight = 1)\n",
    "    \n",
    "et = time.time()\n",
    "elapsed_time = et - st\n",
    "\n",
    "print('Execution time:', elapsed_time/60, 'mins')\n",
    "# Getting % usage of virtual_memory ( 3rd field)\n",
    "print('RAM memory % used:', psutil.virtual_memory()[2])\n",
    "# Getting usage of virtual_memory in GB ( 4th field)\n",
    "print('RAM Used (GB):', psutil.virtual_memory()[3]/1000000000)"
   ]
  },
  {
   "cell_type": "markdown",
   "id": "31d9f96d",
   "metadata": {},
   "source": [
    "- Network Demo"
   ]
  },
  {
   "cell_type": "code",
   "execution_count": 19,
   "id": "7eac2754",
   "metadata": {},
   "outputs": [
    {
     "data": {
      "text/plain": [
       "{}"
      ]
     },
     "execution_count": 19,
     "metadata": {},
     "output_type": "execute_result"
    }
   ],
   "source": [
    "G_unattributed.nodes[2]"
   ]
  },
  {
   "cell_type": "code",
   "execution_count": 20,
   "id": "45d589b8",
   "metadata": {},
   "outputs": [
    {
     "data": {
      "text/plain": [
       "{'weight': 4}"
      ]
     },
     "execution_count": 20,
     "metadata": {},
     "output_type": "execute_result"
    }
   ],
   "source": [
    "G_unattributed.edges[(2, 6716547)]"
   ]
  },
  {
   "cell_type": "code",
   "execution_count": 21,
   "id": "cefd5553",
   "metadata": {},
   "outputs": [
    {
     "data": {
      "text/plain": [
       "{'weight': 1}"
      ]
     },
     "execution_count": 21,
     "metadata": {},
     "output_type": "execute_result"
    }
   ],
   "source": [
    "G_unattributed.edges[(1, 4794247)]"
   ]
  },
  {
   "cell_type": "markdown",
   "id": "bbfce203",
   "metadata": {},
   "source": [
    "- Save network"
   ]
  },
  {
   "cell_type": "code",
   "execution_count": 22,
   "id": "3d134fb5",
   "metadata": {},
   "outputs": [],
   "source": [
    "nx.write_gpickle(G_unattributed, \"data/graphs/G_origial_unattributed.gpickle\")"
   ]
  },
  {
   "cell_type": "markdown",
   "id": "9d02aebc",
   "metadata": {},
   "source": [
    "# 4. Construct Network (Attributed)"
   ]
  },
  {
   "cell_type": "markdown",
   "id": "f07575f7",
   "metadata": {},
   "source": [
    "**Node**: Attributed with tweetTimestamps corresponding followers, friends, bot detection and verification status\n",
    "\n",
    "**Weighted Directed Edges**: Weight obtained by the number of generated tweets; Attributed with tweetTimestamps and newsCategory"
   ]
  },
  {
   "cell_type": "markdown",
   "id": "e02befd8",
   "metadata": {},
   "source": [
    "- Construct Network"
   ]
  },
  {
   "cell_type": "code",
   "execution_count": 11,
   "id": "72c05711",
   "metadata": {},
   "outputs": [],
   "source": [
    "def initialise_network_node(G, attr):\n",
    "    keys = np.arange(0, len(user_dict_encode), 1)\n",
    "    values = [[] for _ in range(len(keys))]\n",
    "    initial_attr = dict(zip(keys, values))\n",
    "    \n",
    "    nx.set_node_attributes(G, initial_attr, attr)"
   ]
  },
  {
   "cell_type": "code",
   "execution_count": 12,
   "id": "feeb594d",
   "metadata": {},
   "outputs": [],
   "source": [
    "import networkx as nx\n",
    "\n",
    "G_attributed = nx.DiGraph()\n",
    "G_attributed.add_nodes_from(np.arange(0, len(user_dict_encode), 1))\n",
    "\n",
    "initialise_network_node(G_attributed, \"timeStamps\")\n",
    "initialise_network_node(G_attributed, \"followers\")\n",
    "initialise_network_node(G_attributed, \"friends\")\n",
    "initialise_network_node(G_attributed, \"bot\")\n",
    "initialise_network_node(G_attributed, \"verified\")"
   ]
  },
  {
   "cell_type": "code",
   "execution_count": 14,
   "id": "77e33fc7",
   "metadata": {},
   "outputs": [
    {
     "name": "stdout",
     "output_type": "stream",
     "text": [
      "Execution time: 46.210902547836305 mins\n",
      "RAM memory % used: 46.3\n",
      "RAM Used (GB): 183.816839168\n"
     ]
    }
   ],
   "source": [
    "st = time.time()\n",
    "\n",
    "for i in index_retain:\n",
    "    from_user = user_dict_encode[data_str[:, 0][i]]\n",
    "    to_user = user_dict_encode[data_str[:, 1][i]]\n",
    "    timestamp = data_int[:, 1][i]\n",
    "    \n",
    "    # Add node attribute\n",
    "    from_bot = data_int[:, 2][i]\n",
    "    from_verified = data_int[:, 3][i]\n",
    "    from_follower_num = data_int[:, 4][i]\n",
    "    from_friend_num = data_int[:, 5][i]\n",
    "    \n",
    "    to_bot = data_int[:, 6][i]\n",
    "    to_verified = data_int[:, 7][i]\n",
    "    to_follower_num = data_int[:, 8][i]\n",
    "    to_friend_num = data_int[:, 9][i]\n",
    "    \n",
    "    G_attributed.nodes[from_user][\"timeStamps\"].append(timestamp)\n",
    "    G_attributed.nodes[from_user][\"followers\"].append(from_follower_num)\n",
    "    G_attributed.nodes[from_user][\"friends\"].append(from_friend_num)\n",
    "    G_attributed.nodes[from_user][\"bot\"].append(from_bot)\n",
    "    G_attributed.nodes[from_user][\"verified\"].append(from_verified)\n",
    "    \n",
    "    G_attributed.nodes[to_user][\"timeStamps\"].append(timestamp)\n",
    "    G_attributed.nodes[to_user][\"followers\"].append(to_follower_num)\n",
    "    G_attributed.nodes[to_user][\"friends\"].append(to_friend_num)\n",
    "    G_attributed.nodes[to_user][\"bot\"].append(to_bot)\n",
    "    G_attributed.nodes[to_user][\"verified\"].append(to_verified)\n",
    "    \n",
    "    # Add edge\n",
    "    newsCategory = newsCateogry_dict_encode[data_str[:, -1][i]]\n",
    "    \n",
    "    if G_attributed.has_edge(from_user, to_user):\n",
    "        G_attributed.edges[(from_user, to_user)][\"weight\"] += 1\n",
    "        G_attributed.edges[(from_user, to_user)][\"timeStamps\"].append(timestamp)\n",
    "        G_attributed.edges[(from_user, to_user)][\"newsCategories\"].append(newsCategory)\n",
    "    else:\n",
    "        G_attributed.add_edge(from_user, to_user, weight = 1, timeStamps = [timestamp], newsCategories = [newsCategory])\n",
    "    \n",
    "et = time.time()\n",
    "elapsed_time = et - st\n",
    "\n",
    "print('Execution time:', elapsed_time/60, 'mins')\n",
    "# Getting % usage of virtual_memory ( 3rd field)\n",
    "print('RAM memory % used:', psutil.virtual_memory()[2])\n",
    "# Getting usage of virtual_memory in GB ( 4th field)\n",
    "print('RAM Used (GB):', psutil.virtual_memory()[3]/1000000000)"
   ]
  },
  {
   "cell_type": "markdown",
   "id": "b0b1391b",
   "metadata": {},
   "source": [
    "- Graph Demo"
   ]
  },
  {
   "cell_type": "code",
   "execution_count": 15,
   "id": "ff77a874",
   "metadata": {},
   "outputs": [
    {
     "data": {
      "text/plain": [
       "{'timeStamps': [1648134989,\n",
       "  1655339450,\n",
       "  1655745435,\n",
       "  1656693022,\n",
       "  1657327488,\n",
       "  1657641083,\n",
       "  1657798795,\n",
       "  1657801155,\n",
       "  1658655141,\n",
       "  1658798492,\n",
       "  1659101815,\n",
       "  1659137207,\n",
       "  1660350179,\n",
       "  1660611873,\n",
       "  1660868454,\n",
       "  1660868729,\n",
       "  1661303199,\n",
       "  1661864309,\n",
       "  1661998205,\n",
       "  1662170215,\n",
       "  1663244690,\n",
       "  1663254077,\n",
       "  1663254547,\n",
       "  1663255679,\n",
       "  1663477716,\n",
       "  1663477740,\n",
       "  1663714563,\n",
       "  1663896188,\n",
       "  1664802550,\n",
       "  1664805614,\n",
       "  1664892010,\n",
       "  1664894490,\n",
       "  1664900594,\n",
       "  1664904542,\n",
       "  1664904658,\n",
       "  1664975172,\n",
       "  1664980615,\n",
       "  1665016018,\n",
       "  1665538674,\n",
       "  1665944392,\n",
       "  1666035337,\n",
       "  1666097379,\n",
       "  1667329353,\n",
       "  1667427114,\n",
       "  1667752492,\n",
       "  1667962436,\n",
       "  1668809635,\n",
       "  1668985555,\n",
       "  1669597004,\n",
       "  1669766556,\n",
       "  1669766698,\n",
       "  1670176980,\n",
       "  1670264155,\n",
       "  1670264298,\n",
       "  1670343738,\n",
       "  1670435811,\n",
       "  1670476924,\n",
       "  1671331098,\n",
       "  1671331757,\n",
       "  1671664362,\n",
       "  1671909976,\n",
       "  1672501059,\n",
       "  1672667372,\n",
       "  1672775025,\n",
       "  1672876871,\n",
       "  1672932547,\n",
       "  1673132543,\n",
       "  1673218520,\n",
       "  1673298762,\n",
       "  1673378071,\n",
       "  1673472524,\n",
       "  1673640577,\n",
       "  1673977956,\n",
       "  1674230235,\n",
       "  1674245436,\n",
       "  1674754228,\n",
       "  1674831707,\n",
       "  1674868019,\n",
       "  1674921343,\n",
       "  1674922145,\n",
       "  1675131132,\n",
       "  1675178972,\n",
       "  1675193028,\n",
       "  1675442728,\n",
       "  1675715586,\n",
       "  1675715862,\n",
       "  1675791656,\n",
       "  1675875464,\n",
       "  1675909583,\n",
       "  1675982438,\n",
       "  1676157628,\n",
       "  1676162552],\n",
       " 'followers': [9,\n",
       "  10,\n",
       "  10,\n",
       "  10,\n",
       "  11,\n",
       "  11,\n",
       "  11,\n",
       "  11,\n",
       "  11,\n",
       "  11,\n",
       "  12,\n",
       "  12,\n",
       "  12,\n",
       "  12,\n",
       "  14,\n",
       "  14,\n",
       "  14,\n",
       "  14,\n",
       "  14,\n",
       "  15,\n",
       "  16,\n",
       "  16,\n",
       "  16,\n",
       "  16,\n",
       "  17,\n",
       "  17,\n",
       "  17,\n",
       "  19,\n",
       "  21,\n",
       "  21,\n",
       "  22,\n",
       "  22,\n",
       "  22,\n",
       "  22,\n",
       "  22,\n",
       "  23,\n",
       "  23,\n",
       "  23,\n",
       "  22,\n",
       "  21,\n",
       "  23,\n",
       "  23,\n",
       "  23,\n",
       "  22,\n",
       "  22,\n",
       "  21,\n",
       "  26,\n",
       "  26,\n",
       "  29,\n",
       "  30,\n",
       "  30,\n",
       "  32,\n",
       "  32,\n",
       "  32,\n",
       "  32,\n",
       "  34,\n",
       "  32,\n",
       "  34,\n",
       "  34,\n",
       "  37,\n",
       "  37,\n",
       "  37,\n",
       "  37,\n",
       "  39,\n",
       "  38,\n",
       "  34,\n",
       "  41,\n",
       "  39,\n",
       "  41,\n",
       "  42,\n",
       "  41,\n",
       "  41,\n",
       "  39,\n",
       "  41,\n",
       "  41,\n",
       "  47,\n",
       "  48,\n",
       "  48,\n",
       "  48,\n",
       "  48,\n",
       "  48,\n",
       "  46,\n",
       "  46,\n",
       "  47,\n",
       "  49,\n",
       "  49,\n",
       "  49,\n",
       "  51,\n",
       "  53,\n",
       "  53,\n",
       "  58,\n",
       "  58],\n",
       " 'friends': [26,\n",
       "  35,\n",
       "  39,\n",
       "  41,\n",
       "  45,\n",
       "  46,\n",
       "  46,\n",
       "  46,\n",
       "  48,\n",
       "  49,\n",
       "  47,\n",
       "  47,\n",
       "  47,\n",
       "  49,\n",
       "  50,\n",
       "  50,\n",
       "  50,\n",
       "  52,\n",
       "  53,\n",
       "  53,\n",
       "  57,\n",
       "  57,\n",
       "  57,\n",
       "  57,\n",
       "  61,\n",
       "  61,\n",
       "  66,\n",
       "  68,\n",
       "  73,\n",
       "  73,\n",
       "  74,\n",
       "  74,\n",
       "  74,\n",
       "  74,\n",
       "  74,\n",
       "  74,\n",
       "  74,\n",
       "  74,\n",
       "  79,\n",
       "  81,\n",
       "  81,\n",
       "  82,\n",
       "  89,\n",
       "  93,\n",
       "  97,\n",
       "  100,\n",
       "  107,\n",
       "  107,\n",
       "  110,\n",
       "  111,\n",
       "  111,\n",
       "  117,\n",
       "  117,\n",
       "  117,\n",
       "  117,\n",
       "  118,\n",
       "  120,\n",
       "  134,\n",
       "  134,\n",
       "  137,\n",
       "  138,\n",
       "  148,\n",
       "  148,\n",
       "  149,\n",
       "  151,\n",
       "  156,\n",
       "  172,\n",
       "  174,\n",
       "  183,\n",
       "  189,\n",
       "  188,\n",
       "  199,\n",
       "  233,\n",
       "  257,\n",
       "  257,\n",
       "  266,\n",
       "  272,\n",
       "  272,\n",
       "  274,\n",
       "  274,\n",
       "  281,\n",
       "  287,\n",
       "  287,\n",
       "  290,\n",
       "  296,\n",
       "  296,\n",
       "  298,\n",
       "  301,\n",
       "  311,\n",
       "  311,\n",
       "  325,\n",
       "  325],\n",
       " 'bot': [0,\n",
       "  0,\n",
       "  0,\n",
       "  1,\n",
       "  0,\n",
       "  0,\n",
       "  0,\n",
       "  0,\n",
       "  1,\n",
       "  1,\n",
       "  0,\n",
       "  0,\n",
       "  0,\n",
       "  0,\n",
       "  1,\n",
       "  1,\n",
       "  1,\n",
       "  0,\n",
       "  1,\n",
       "  1,\n",
       "  0,\n",
       "  0,\n",
       "  0,\n",
       "  0,\n",
       "  1,\n",
       "  1,\n",
       "  1,\n",
       "  0,\n",
       "  1,\n",
       "  1,\n",
       "  1,\n",
       "  1,\n",
       "  1,\n",
       "  1,\n",
       "  1,\n",
       "  0,\n",
       "  0,\n",
       "  0,\n",
       "  0,\n",
       "  0,\n",
       "  0,\n",
       "  0,\n",
       "  1,\n",
       "  1,\n",
       "  0,\n",
       "  1,\n",
       "  1,\n",
       "  1,\n",
       "  1,\n",
       "  1,\n",
       "  1,\n",
       "  0,\n",
       "  0,\n",
       "  0,\n",
       "  0,\n",
       "  1,\n",
       "  1,\n",
       "  1,\n",
       "  1,\n",
       "  1,\n",
       "  0,\n",
       "  0,\n",
       "  1,\n",
       "  1,\n",
       "  1,\n",
       "  1,\n",
       "  1,\n",
       "  1,\n",
       "  1,\n",
       "  0,\n",
       "  0,\n",
       "  0,\n",
       "  0,\n",
       "  1,\n",
       "  1,\n",
       "  0,\n",
       "  0,\n",
       "  0,\n",
       "  0,\n",
       "  0,\n",
       "  1,\n",
       "  0,\n",
       "  0,\n",
       "  1,\n",
       "  1,\n",
       "  1,\n",
       "  1,\n",
       "  0,\n",
       "  0,\n",
       "  0,\n",
       "  1,\n",
       "  1],\n",
       " 'verified': [0,\n",
       "  0,\n",
       "  0,\n",
       "  0,\n",
       "  0,\n",
       "  0,\n",
       "  0,\n",
       "  0,\n",
       "  0,\n",
       "  0,\n",
       "  0,\n",
       "  0,\n",
       "  0,\n",
       "  0,\n",
       "  0,\n",
       "  0,\n",
       "  0,\n",
       "  0,\n",
       "  0,\n",
       "  0,\n",
       "  0,\n",
       "  0,\n",
       "  0,\n",
       "  0,\n",
       "  0,\n",
       "  0,\n",
       "  0,\n",
       "  0,\n",
       "  0,\n",
       "  0,\n",
       "  0,\n",
       "  0,\n",
       "  0,\n",
       "  0,\n",
       "  0,\n",
       "  0,\n",
       "  0,\n",
       "  0,\n",
       "  0,\n",
       "  0,\n",
       "  0,\n",
       "  0,\n",
       "  0,\n",
       "  0,\n",
       "  0,\n",
       "  0,\n",
       "  0,\n",
       "  0,\n",
       "  0,\n",
       "  0,\n",
       "  0,\n",
       "  0,\n",
       "  0,\n",
       "  0,\n",
       "  0,\n",
       "  0,\n",
       "  0,\n",
       "  0,\n",
       "  0,\n",
       "  0,\n",
       "  0,\n",
       "  0,\n",
       "  0,\n",
       "  0,\n",
       "  0,\n",
       "  0,\n",
       "  0,\n",
       "  0,\n",
       "  0,\n",
       "  0,\n",
       "  0,\n",
       "  0,\n",
       "  0,\n",
       "  0,\n",
       "  0,\n",
       "  0,\n",
       "  0,\n",
       "  0,\n",
       "  0,\n",
       "  0,\n",
       "  0,\n",
       "  0,\n",
       "  0,\n",
       "  0,\n",
       "  0,\n",
       "  0,\n",
       "  0,\n",
       "  0,\n",
       "  0,\n",
       "  0,\n",
       "  0,\n",
       "  0]}"
      ]
     },
     "execution_count": 15,
     "metadata": {},
     "output_type": "execute_result"
    }
   ],
   "source": [
    "G_attributed.nodes[2]"
   ]
  },
  {
   "cell_type": "code",
   "execution_count": 16,
   "id": "36146da6",
   "metadata": {},
   "outputs": [
    {
     "data": {
      "text/plain": [
       "{'weight': 4,\n",
       " 'timeStamps': [1674921343, 1675131132, 1675178972, 1675442728],\n",
       " 'newsCategories': [4, 4, 4, 4]}"
      ]
     },
     "execution_count": 16,
     "metadata": {},
     "output_type": "execute_result"
    }
   ],
   "source": [
    "G_attributed.edges[(2, 6716547)]"
   ]
  },
  {
   "cell_type": "code",
   "execution_count": 17,
   "id": "7f04e3e8",
   "metadata": {},
   "outputs": [
    {
     "data": {
      "text/plain": [
       "{'weight': 1, 'timeStamps': [1615181439], 'newsCategories': [6]}"
      ]
     },
     "execution_count": 17,
     "metadata": {},
     "output_type": "execute_result"
    }
   ],
   "source": [
    "G_attributed.edges[(1, 4794247)]"
   ]
  },
  {
   "cell_type": "markdown",
   "id": "53d2ece1",
   "metadata": {},
   "source": [
    "- Save Graph"
   ]
  },
  {
   "cell_type": "code",
   "execution_count": null,
   "id": "26bb020b",
   "metadata": {},
   "outputs": [],
   "source": [
    "st = time.time()\n",
    "\n",
    "nx.write_gpickle(G_attributed, \"data/graphs/G_origial.gpickle\")\n",
    "\n",
    "et = time.time()\n",
    "elapsed_time = et - st\n",
    "\n",
    "print('Execution time:', elapsed_time/60, 'mins')\n",
    "# Getting % usage of virtual_memory ( 3rd field)\n",
    "print('RAM memory % used:', psutil.virtual_memory()[2])\n",
    "# Getting usage of virtual_memory in GB ( 4th field)\n",
    "print('RAM Used (GB):', psutil.virtual_memory()[3]/1000000000)"
   ]
  }
 ],
 "metadata": {
  "kernelspec": {
   "display_name": "Python 3 (ipykernel)",
   "language": "python",
   "name": "python3"
  },
  "language_info": {
   "codemirror_mode": {
    "name": "ipython",
    "version": 3
   },
   "file_extension": ".py",
   "mimetype": "text/x-python",
   "name": "python",
   "nbconvert_exporter": "python",
   "pygments_lexer": "ipython3",
   "version": "3.8.13"
  }
 },
 "nbformat": 4,
 "nbformat_minor": 5
}
